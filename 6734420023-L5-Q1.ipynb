{
 "cells": [
  {
   "cell_type": "markdown",
   "metadata": {
    "deletable": false,
    "editable": false,
    "id": "rvpqm3gKNIKP",
    "nbgrader": {
     "cell_type": "markdown",
     "checksum": "2328186a367bee3795778fff23ceed4a",
     "grade": false,
     "grade_id": "cell-dbf37dcea5d7dc5c",
     "locked": true,
     "schema_version": 3,
     "solution": false,
     "task": false
    }
   },
   "source": [
    "## Q1\n",
    "จงเขียนโปรแกรมที่อ่านเวกเตอร์ 2 เวกเตอร์จากไฟล์ vector\\<n\\>.txt แล้วตรวจสอบว่ามีขนาดเท่ากันหรือไม่  <br>\n",
    "- ถ้าไม่เท่ากัน จะแสดงข้อความว่า Incompatible size\n",
    "- ถ้าเท่ากัน จะหา dot product ของเวกเตอร์ทั้งสอง <br>\n",
    "\n",
    "สิ่งที่ต้องทำคือ\n",
    "\n",
    "- สร้างฟังก์ชัน is_equal(v1,v2) เพื่อตรวจสอบความยาวของเวกเตอร์ทั้งสองเท่ากันหรือไม่ คืนค่าเป็น True หรือ False\n",
    "- สร้างฟังก์ชัน dot(v1,v2) เพื่อหา dot product ของเวกเตอร์ทั้งสอง คืนค่าเป็น ผลรวมของ dot product\n",
    "- สร้างฟังก์ชัน convert_to_float(v) เพื่อแปลงประเภทข้อมูลให้เป็น float คืนค่าเป็น v1 และ v2 ที่เป็นลิสต์\n",
    "- สร้างฟังก์ชัน read_file_vector(filename) เพื่ออ่านไฟล์และจัดรูปแบบเป็นลิสต์ คืนค่าเป็น v1 และ v2 ที่เป็นลิสต์\n",
    "\n",
    "และแสดงผลลัพธ์ดังตัวอย่างข้างล่างนี้"
   ]
  },
  {
   "cell_type": "markdown",
   "metadata": {
    "deletable": false,
    "editable": false,
    "id": "mKyNIWW9NIKa",
    "nbgrader": {
     "cell_type": "markdown",
     "checksum": "e3e9c47896eb6c5f658762378394b4e1",
     "grade": false,
     "grade_id": "cell-7ae57c7b0fc2869d",
     "locked": true,
     "schema_version": 3,
     "solution": false,
     "task": false
    }
   },
   "source": [
    "### ตัวอย่างการทำงาน: \n",
    "\n",
    "ไฟล์ vector1.txt:  <br>\n",
    "6 4 9 6 -4 7 <br>\n",
    "3 7 -3 9 -5 1 <br>\n",
    "---\n",
    "Choose your vector file: **vector1.txt** <br>\n",
    "v1 = [6.0, 4.0, 9.0, 6.0, -4.0, 7.0] <br>\n",
    "v2 = [3.0, 7.0, -3.0, 9.0, -5.0, 1.0] <br>\n",
    "v1*v2 = 100.0"
   ]
  },
  {
   "cell_type": "markdown",
   "metadata": {
    "deletable": false,
    "editable": false,
    "id": "N0Uaat6MNIKd",
    "nbgrader": {
     "cell_type": "markdown",
     "checksum": "19f7a6343187707128c43dc703dd0cfa",
     "grade": false,
     "grade_id": "cell-1b10c564484fa711",
     "locked": true,
     "schema_version": 3,
     "solution": false,
     "task": false
    }
   },
   "source": [
    "### ตัวอย่างการทำงาน: \n",
    "\n",
    "ไฟล์ vector2.txt: <br>\n",
    "6 4 9 6 -4 7 <br>\n",
    "3 7 -3 <br>\n",
    "---\n",
    "Choose your vector file: **vector2.txt** <br>\n",
    "v1 = [6.0, 4.0, 9.0, 6.0, -4.0, 7.0] <br>\n",
    "v2 = [3.0, 7.0, -3.0] <br>\n",
    "Incompatible size"
   ]
  },
  {
   "cell_type": "markdown",
   "metadata": {
    "deletable": false,
    "editable": false,
    "id": "4kLRlnCvNIKe",
    "nbgrader": {
     "cell_type": "markdown",
     "checksum": "9c65d98b88a9a0cb6ef4b7de45812a39",
     "grade": false,
     "grade_id": "cell-f2a61b7ae4fb334b",
     "locked": true,
     "schema_version": 3,
     "solution": false,
     "task": false
    }
   },
   "source": [
    "### ตัวอย่างการทำงาน: \n",
    "\n",
    "ไฟล์ vector3.txt: <br>\n",
    "5.5 4.5 9.5 6 -4 7 <br>\n",
    "3 7.1 -3.5 5 6 9 <br>\n",
    "\n",
    "Choose your vector file: **vector3.txt** <br>\n",
    "v1 = [5.5, 4.5, 9.5, 6.0, -4.0, 7.0] <br>\n",
    "v2 = [3.0, 7.1, -3.5, 5.0, 6.0, 9.0] <br>\n",
    "v1*v2 = 84.2"
   ]
  },
  {
   "cell_type": "markdown",
   "metadata": {
    "deletable": false,
    "editable": false,
    "id": "Ou8pjIuENIKf",
    "nbgrader": {
     "cell_type": "markdown",
     "checksum": "ff34bf38cd5a0923ad559392cf52d924",
     "grade": false,
     "grade_id": "cell-3c3965a8716444b1",
     "locked": true,
     "schema_version": 3,
     "solution": false,
     "task": false
    }
   },
   "source": [
    "### ตัวอย่างการทำงาน: \n",
    "\n",
    "ไฟล์ vector4.txt: <br>\n",
    "5.5 4 -9 6 -4 <br>\n",
    "3 -7.1 0  <br>\n",
    "\n",
    "Choose your vector file: **vector4.txt** <br>\n",
    "v1 = [5.5, 4.0, -9.0, 6.0, -4.0] <br>\n",
    "v2 = [3.0, -7.1, 0.0] <br>\n",
    "Incompatible size <br>"
   ]
  },
  {
   "cell_type": "code",
   "execution_count": 104,
   "metadata": {
    "deletable": false,
    "id": "lLnZ2qemNIKh",
    "nbgrader": {
     "cell_type": "code",
     "checksum": "b574edec89f03283500b141f65e91b54",
     "grade": false,
     "grade_id": "name",
     "locked": false,
     "schema_version": 3,
     "solution": true
    }
   },
   "outputs": [],
   "source": [
    "def is_equal(v1, v2):\n",
    "    if len(v1) == len(v2) :\n",
    "        return True\n",
    "    else :\n",
    "        return False\n",
    "        \n",
    "def dot(v1,v2):\n",
    "    v3 = list()\n",
    "    sum = 0\n",
    "    for i in range(len(v1)) :\n",
    "        v3.append(v1[i] * v2[i])\n",
    "\n",
    "    for i in range(len(v3)) :\n",
    "        sum += v3[i]\n",
    "        \n",
    "    return sum\n",
    "    \n",
    "def convert_to_float(v):\n",
    "    for i in range(len(v)) :\n",
    "        v[i] = float(v[i])\n",
    "\n",
    "    return v\n",
    "    \n",
    "def read_file_vector(filename):\n",
    "    f = open(f'{filename}', 'r')\n",
    "    v1 = f.readline().split()\n",
    "    v2 = f.readline().split()\n",
    "    return v1, v2\n",
    "    \n",
    "def run():\n",
    "    v1, v2 = read_file_vector(input('Choose your vector file:'))\n",
    "    v1 = convert_to_float(v1)\n",
    "    v2 = convert_to_float(v2)\n",
    "    print(f'v1 = {v1}')\n",
    "    print(f'v2 = {v2}')\n",
    "    if is_equal(v1, v2) == True :\n",
    "        print(f'v1*v2 = {dot(v1,v2)}')\n",
    "    else :\n",
    "        print('Incompatible size')\n",
    "         "
   ]
  },
  {
   "cell_type": "code",
   "execution_count": 88,
   "metadata": {
    "deletable": false,
    "editable": false,
    "id": "ewhAzgW8NIKl",
    "nbgrader": {
     "cell_type": "code",
     "checksum": "b7b03893ed0aaf1a2af60ae612b4be37",
     "grade": false,
     "grade_id": "cell-befa13e6c82bd29b",
     "locked": true,
     "schema_version": 3,
     "solution": false,
     "task": false
    },
    "outputId": "5178efdf-16e3-4c77-b375-b5b75924c4c4"
   },
   "outputs": [
    {
     "name": "stdin",
     "output_type": "stream",
     "text": [
      "Choose your vector file: vector1.txt\n"
     ]
    },
    {
     "name": "stdout",
     "output_type": "stream",
     "text": [
      "v1 = ['6', '4', '9', '6', '-4', '7']\n",
      "v2 = ['3', '7', '-3', '9', '-5', '1']\n",
      "v1*v2 = 100.0\n"
     ]
    }
   ],
   "source": [
    "'''ตรวจสอบผลลัพธ์ของโปรแกรมด้วยการรันที่ cell นี้'''\n",
    "run()"
   ]
  },
  {
   "cell_type": "code",
   "execution_count": 106,
   "metadata": {
    "deletable": false,
    "editable": false,
    "id": "TsLMT-4GNIKo",
    "nbgrader": {
     "cell_type": "code",
     "checksum": "51309daa496029406f58e0ffe1d6e21d",
     "grade": false,
     "grade_id": "partial",
     "locked": true,
     "schema_version": 3,
     "solution": false,
     "task": false
    }
   },
   "outputs": [],
   "source": [
    "'''ตรวจสอบผลการคำนวณ'''\n",
    "from unittest.mock import patch\n",
    "from io import StringIO\n",
    "\n",
    "def test(inputs,expected_output): \n",
    "    with patch('builtins.input', side_effect=inputs), patch('sys.stdout', new_callable=StringIO) as mock_stdout:\n",
    "        run()\n",
    "        assert mock_stdout.getvalue() == expected_output,mock_stdout.getvalue()\n",
    "def test_easy_print(inputs,expected_output):\n",
    "    with patch('builtins.input', side_effect=inputs), patch('sys.stdout', new_callable=StringIO) as mock_stdout:\n",
    "        run()\n",
    "        assert expected_output in mock_stdout.getvalue(), mock_stdout.getvalue()"
   ]
  },
  {
   "cell_type": "code",
   "execution_count": 108,
   "metadata": {
    "deletable": false,
    "editable": false,
    "nbgrader": {
     "cell_type": "code",
     "checksum": "2cba2e901f9942b71e8221f15ccc4e79",
     "grade": true,
     "grade_id": "easy_print",
     "locked": true,
     "points": 1,
     "schema_version": 3,
     "solution": false,
     "task": false
    }
   },
   "outputs": [
    {
     "name": "stdout",
     "output_type": "stream",
     "text": [
      "ok\n"
     ]
    }
   ],
   "source": [
    "'''ตรวจสอบการแสดงผลลัพธ์อย่างง่าย'''\n",
    "test_easy_print(inputs=['vector1.txt'],expected_output='v')\n",
    "print('ok')"
   ]
  },
  {
   "cell_type": "code",
   "execution_count": 110,
   "metadata": {
    "deletable": false,
    "editable": false,
    "nbgrader": {
     "cell_type": "code",
     "checksum": "e8b580dee6f127c452ad56850c961926",
     "grade": true,
     "grade_id": "cell-011068f4667a47f7",
     "locked": true,
     "points": 1,
     "schema_version": 3,
     "solution": false,
     "task": false
    }
   },
   "outputs": [
    {
     "name": "stdout",
     "output_type": "stream",
     "text": [
      "ok\n"
     ]
    }
   ],
   "source": [
    "'''ตรวจสอบฟังก์ชัน is_equal'''\n",
    "assert is_equal([6.0, 4.0, 9.0, 6.0, -4.0, 7.0],[3.0, 7.0, -3.0, 9.0, -5.0, 1.0]) == True\n",
    "assert is_equal([1.0,2.0,3.0],[4.0,-5.1,-99.2]) == True\n",
    "assert is_equal([1.0,2.0],[4.0,-5.1,-99.2]) == False\n",
    "print('ok')"
   ]
  },
  {
   "cell_type": "code",
   "execution_count": 112,
   "metadata": {
    "deletable": false,
    "editable": false,
    "nbgrader": {
     "cell_type": "code",
     "checksum": "ee60ea06a5b542ab17d4780d388ba836",
     "grade": true,
     "grade_id": "cell-231eb21054e1c1a8",
     "locked": true,
     "points": 1,
     "schema_version": 3,
     "solution": false,
     "task": false
    }
   },
   "outputs": [
    {
     "name": "stdout",
     "output_type": "stream",
     "text": [
      "ok\n"
     ]
    }
   ],
   "source": [
    "'''ตรวจสอบฟังก์ชัน dot'''\n",
    "assert dot([6.0, 4.0, 9.0, 6.0, -4.0, 7.0],[3.0, 7.0, -3.0, 9.0, -5.0, 1.0]) == 100.0\n",
    "assert dot([1.0,2.0,3.0],[4.0,-5.1,-99.2]) == -303.8\n",
    "print('ok')"
   ]
  },
  {
   "cell_type": "code",
   "execution_count": 114,
   "metadata": {
    "deletable": false,
    "editable": false,
    "nbgrader": {
     "cell_type": "code",
     "checksum": "6b875c8a47516385cedb3696aa97357e",
     "grade": true,
     "grade_id": "cell-8552f0d30ed86b38",
     "locked": true,
     "points": 1,
     "schema_version": 3,
     "solution": false,
     "task": false
    }
   },
   "outputs": [
    {
     "name": "stdout",
     "output_type": "stream",
     "text": [
      "ok\n"
     ]
    }
   ],
   "source": [
    "'''ตรวจสอบฟังก์ชัน convert_to_float'''\n",
    "assert convert_to_float(['1','2','3']) == [1.0,2.0,3.0]\n",
    "assert convert_to_float(['-55','-81','0.01']) == [-55.0, -81.0, 0.01]\n",
    "print('ok')"
   ]
  },
  {
   "cell_type": "code",
   "execution_count": 116,
   "metadata": {
    "deletable": false,
    "editable": false,
    "nbgrader": {
     "cell_type": "code",
     "checksum": "1ffec84b10e3cd480457bdac5c1b389c",
     "grade": true,
     "grade_id": "cell-85b6a73599b8dcea",
     "locked": true,
     "points": 1,
     "schema_version": 3,
     "solution": false,
     "task": false
    }
   },
   "outputs": [
    {
     "name": "stdout",
     "output_type": "stream",
     "text": [
      "ok\n"
     ]
    }
   ],
   "source": [
    "'''ตรวจสอบฟังก์ชัน read_file_vectors'''\n",
    "assert read_file_vector('vector2.txt') == (['6', '4', '9', '6', '-4', '7'], ['3', '7', '-3'])\n",
    "assert read_file_vector('vector3.txt') == (['5.5', '4.5', '9.5', '6', '-4', '7'], ['3', '7.1', '-3.5', '5', '6', '9'])\n",
    "print('ok')"
   ]
  },
  {
   "cell_type": "code",
   "execution_count": 118,
   "metadata": {
    "deletable": false,
    "editable": false,
    "id": "fxAL4Ns_NIKq",
    "nbgrader": {
     "cell_type": "code",
     "checksum": "467aa3c97b701a0ee35fbe6261d90e79",
     "grade": true,
     "grade_id": "exact",
     "locked": false,
     "points": 1,
     "schema_version": 3,
     "solution": false
    }
   },
   "outputs": [
    {
     "name": "stdout",
     "output_type": "stream",
     "text": [
      "ok\n"
     ]
    }
   ],
   "source": [
    "'''ตรวจสอบผลการคำนวณและการแสดงผลลัพธ์ให้เหมือนกับโจทย์ที่กำหนดให้'''\n",
    "'''Vector dot product'''\n",
    "test(['vector1.txt'],'v1 = [6.0, 4.0, 9.0, 6.0, -4.0, 7.0]\\nv2 = [3.0, 7.0, -3.0, 9.0, -5.0, 1.0]\\nv1*v2 = 100.0\\n')\n",
    "test(['vector3.txt'],'v1 = [5.5, 4.5, 9.5, 6.0, -4.0, 7.0]\\nv2 = [3.0, 7.1, -3.5, 5.0, 6.0, 9.0]\\nv1*v2 = 84.2\\n')\n",
    "print('ok')"
   ]
  },
  {
   "cell_type": "code",
   "execution_count": 120,
   "metadata": {
    "deletable": false,
    "editable": false,
    "id": "ovZ8VVdbNIKr",
    "nbgrader": {
     "cell_type": "code",
     "checksum": "6ebfcb9c265c69c8cbdbfa18a613a6c6",
     "grade": true,
     "grade_id": "cell-cbc47179f27fefee",
     "locked": true,
     "points": 1,
     "schema_version": 3,
     "solution": false,
     "task": false
    }
   },
   "outputs": [
    {
     "name": "stdout",
     "output_type": "stream",
     "text": [
      "ok\n"
     ]
    }
   ],
   "source": [
    "'''ตรวจสอบผลการคำนวณและการแสดงผลลัพธ์ให้เหมือนกับโจทย์ที่กำหนดให้'''\n",
    "'''Incompatible size'''\n",
    "test(['vector2.txt'],'v1 = [6.0, 4.0, 9.0, 6.0, -4.0, 7.0]\\nv2 = [3.0, 7.0, -3.0]\\nIncompatible size\\n')\n",
    "test(['vector4.txt'],'v1 = [5.5, 4.0, -9.0, 6.0, -4.0]\\nv2 = [3.0, -7.1, 0.0]\\nIncompatible size\\n')\n",
    "print('ok')"
   ]
  },
  {
   "cell_type": "code",
   "execution_count": 122,
   "metadata": {
    "deletable": false,
    "editable": false,
    "id": "yLn_Xy86NIKs",
    "nbgrader": {
     "cell_type": "code",
     "checksum": "5b7f33203298105541190ad1d2bf2616",
     "grade": true,
     "grade_id": "cell-bae5e23d18255008",
     "locked": true,
     "points": 1,
     "schema_version": 3,
     "solution": false,
     "task": false
    }
   },
   "outputs": [
    {
     "data": {
      "text/plain": [
       "'เทสลับ1'"
      ]
     },
     "execution_count": 122,
     "metadata": {},
     "output_type": "execute_result"
    }
   ],
   "source": [
    "'''เทสลับ1'''"
   ]
  },
  {
   "cell_type": "code",
   "execution_count": 124,
   "metadata": {
    "deletable": false,
    "editable": false,
    "id": "wZnAHnt0NIKt",
    "nbgrader": {
     "cell_type": "code",
     "checksum": "c314a295bf898bf49c2e8626e4428eee",
     "grade": true,
     "grade_id": "cell-c5c71f7cd97f1236",
     "locked": true,
     "points": 1,
     "schema_version": 3,
     "solution": false,
     "task": false
    }
   },
   "outputs": [
    {
     "data": {
      "text/plain": [
       "'เทสลับ2'"
      ]
     },
     "execution_count": 124,
     "metadata": {},
     "output_type": "execute_result"
    }
   ],
   "source": [
    "'''เทสลับ2'''"
   ]
  },
  {
   "cell_type": "code",
   "execution_count": null,
   "metadata": {},
   "outputs": [],
   "source": []
  }
 ],
 "metadata": {
  "BondSan": "5409847df59bb8f22f5781a8f774e23689910c64c75cdf6dbf83c8ea5d2ca58fe173ee9d71c689dd3310e1d9762e96b3165e6a18327faa59773de113ef11f6a99030333fb98da325a2ab4de4d20307b6972b5a786f620cc047bf0ca5f031171e872a9aed081e72ad5b99c9609ff6f1bcec62d181ffe2d4a230c0446c1ca435b65f591e97c5005c0b8403279127c27c71652c1d62ae671c9c2e9536305d7caff2bb9bca9a91efcdcd90d244201cc2588d1bf47cf0399f116ef5a421764406f994ef6a59012db492fb0ffc973bc3a052c3193d6d69304c2885afbdfdf207bb838c70be1a0d40d97d32c679bcbbc84e363ff376064e70f378f07d7d29fc1026047a",
  "colab": {
   "provenance": []
  },
  "kernelspec": {
   "display_name": "Python 3 (ipykernel)",
   "language": "python",
   "name": "python3"
  },
  "language_info": {
   "codemirror_mode": {
    "name": "ipython",
    "version": 3
   },
   "file_extension": ".py",
   "mimetype": "text/x-python",
   "name": "python",
   "nbconvert_exporter": "python",
   "pygments_lexer": "ipython3",
   "version": "3.12.4"
  }
 },
 "nbformat": 4,
 "nbformat_minor": 4
}
