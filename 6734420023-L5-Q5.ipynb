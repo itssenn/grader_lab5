{
 "cells": [
  {
   "cell_type": "markdown",
   "metadata": {
    "deletable": false,
    "editable": false,
    "id": "biIDDHAF_M_S",
    "nbgrader": {
     "cell_type": "markdown",
     "checksum": "fa4f20d9899bd6718b2d4f2b7c1735a5",
     "grade": false,
     "grade_id": "cell-dbf37dcea5d7dc5c",
     "locked": true,
     "schema_version": 3,
     "solution": false,
     "task": false
    }
   },
   "source": [
    "##### Q5\n",
    "จงเขียนโปรแกรมเพื่อรับตัวเลขหนึ่งตัวระหว่าง [0,9] จากนั้นแสดงตัวเลขตั้งแต่ 1-100 ซึ่งมีเลขที่รับเข้ามาปรากฏอยู่ <br>\n",
    "\n",
    "สิ่งที่ต้องทำคือ\n",
    "- สร้างฟังก์ชัน create_list(number) **(รับค่า number ที่เป็น integer)** เพื่อสร้างลิสต์ที่มีเลขที่รับเข้ามาปรากฏอยู่ คืนค่าเป็นลิสต์"
   ]
  },
  {
   "cell_type": "markdown",
   "metadata": {
    "deletable": false,
    "editable": false,
    "id": "FKIG9mPK_M_T",
    "nbgrader": {
     "cell_type": "markdown",
     "checksum": "c6d6bf5cac169c46287e061fcfdd6d69",
     "grade": false,
     "grade_id": "cell-f48de376823dafb8",
     "locked": true,
     "schema_version": 3,
     "solution": false,
     "task": false
    }
   },
   "source": [
    "### ตัวอย่างการทำงาน:\n",
    "Enter a nember between [0,9] : **0** <br>\n",
    "[10, 20, 30, 40, 50, 60, 70, 80, 90, 100] <br>"
   ]
  },
  {
   "cell_type": "markdown",
   "metadata": {
    "deletable": false,
    "editable": false,
    "id": "gsyQ6vN7_M_T",
    "nbgrader": {
     "cell_type": "markdown",
     "checksum": "726329de9f2cc992dc139a71f6bf3728",
     "grade": false,
     "grade_id": "cell-4bc078d4ff7a5437",
     "locked": true,
     "schema_version": 3,
     "solution": false,
     "task": false
    }
   },
   "source": [
    "### ตัวอย่างการทำงาน:\n",
    "Enter a number between [0,9]: **3** <br>\n",
    "[3, 13, 23, 30, 31, 32, 33, 34, 35, 36, 37, 38, 39, 43, 53, 63, 73, 83, 93] <br>"
   ]
  },
  {
   "cell_type": "markdown",
   "metadata": {
    "deletable": false,
    "editable": false,
    "id": "9K2ftRoR_M_U",
    "nbgrader": {
     "cell_type": "markdown",
     "checksum": "49921d36336c634a243d860eb8a77388",
     "grade": false,
     "grade_id": "cell-a91d8eaafbc83ab4",
     "locked": true,
     "schema_version": 3,
     "solution": false,
     "task": false
    }
   },
   "source": [
    "### ตัวอย่างการทำงาน:\n",
    "Enter a number between [0,9]: **4** <br>\n",
    "[4, 14, 24, 34, 40, 41, 42, 43, 44, 45, 46, 47, 48, 49, 54, 64, 74, 84, 94] <br>"
   ]
  },
  {
   "cell_type": "markdown",
   "metadata": {
    "deletable": false,
    "editable": false,
    "id": "etXeSycd_M_U",
    "nbgrader": {
     "cell_type": "markdown",
     "checksum": "93fef66f0590baa904297b2394e66fc9",
     "grade": false,
     "grade_id": "cell-c16eb4512b891047",
     "locked": true,
     "schema_version": 3,
     "solution": false,
     "task": false
    }
   },
   "source": [
    "### ตัวอย่างการทำงาน:\n",
    "Enter a number between [0,9]: **8** <br>\n",
    "[8, 18, 28, 38, 48, 58, 68, 78, 80, 81, 82, 83, 84, 85, 86, 87, 88, 89, 98] <br>"
   ]
  },
  {
   "cell_type": "code",
   "execution_count": 92,
   "metadata": {
    "deletable": false,
    "id": "W0_KxSNM_M_U",
    "nbgrader": {
     "cell_type": "code",
     "checksum": "312d8c6bda1ccd0ea020bfbec16a48ec",
     "grade": false,
     "grade_id": "name",
     "locked": false,
     "schema_version": 3,
     "solution": true
    }
   },
   "outputs": [],
   "source": [
    "def create_list(number):\n",
    "    lst = [i for i in range(1,101) if str(number) in str(i)]\n",
    "    return lst\n",
    "\n",
    "def run():\n",
    "    num = input('Enter a number between [0,9]:')\n",
    "    print(create_list(num))"
   ]
  },
  {
   "cell_type": "code",
   "execution_count": 94,
   "metadata": {
    "deletable": false,
    "editable": false,
    "id": "YQt0KgT7_M_U",
    "nbgrader": {
     "cell_type": "code",
     "checksum": "b7b03893ed0aaf1a2af60ae612b4be37",
     "grade": false,
     "grade_id": "cell-befa13e6c82bd29b",
     "locked": true,
     "schema_version": 3,
     "solution": false,
     "task": false
    }
   },
   "outputs": [
    {
     "name": "stdin",
     "output_type": "stream",
     "text": [
      "Enter a number between [0,9]: 4\n"
     ]
    },
    {
     "name": "stdout",
     "output_type": "stream",
     "text": [
      "[4, 14, 24, 34, 40, 41, 42, 43, 44, 45, 46, 47, 48, 49, 54, 64, 74, 84, 94]\n"
     ]
    }
   ],
   "source": [
    "'''ตรวจสอบผลลัพธ์ของโปรแกรมด้วยการรันที่ cell นี้'''\n",
    "run()"
   ]
  },
  {
   "cell_type": "code",
   "execution_count": 96,
   "metadata": {
    "deletable": false,
    "editable": false,
    "id": "RHZbq2Kz_M_U",
    "nbgrader": {
     "cell_type": "code",
     "checksum": "51309daa496029406f58e0ffe1d6e21d",
     "grade": false,
     "grade_id": "partial",
     "locked": true,
     "schema_version": 3,
     "solution": false,
     "task": false
    }
   },
   "outputs": [],
   "source": [
    "'''ตรวจสอบผลการคำนวณ'''\n",
    "from unittest.mock import patch\n",
    "from io import StringIO\n",
    "\n",
    "def test(inputs,expected_output):\n",
    "    with patch('builtins.input', side_effect=inputs), patch('sys.stdout', new_callable=StringIO) as mock_stdout:\n",
    "        run()\n",
    "        assert mock_stdout.getvalue() == expected_output,mock_stdout.getvalue()\n",
    "def test_easy_print(inputs,expected_output):\n",
    "    with patch('builtins.input', side_effect=inputs), patch('sys.stdout', new_callable=StringIO) as mock_stdout:\n",
    "        run()\n",
    "        assert expected_output in mock_stdout.getvalue(), mock_stdout.getvalue()"
   ]
  },
  {
   "cell_type": "code",
   "execution_count": 98,
   "metadata": {
    "deletable": false,
    "editable": false,
    "id": "GnkQMfrb_M_U",
    "nbgrader": {
     "cell_type": "code",
     "checksum": "350a0261202cc0053d7218578e3feb33",
     "grade": true,
     "grade_id": "easy_print",
     "locked": true,
     "points": 1,
     "schema_version": 3,
     "solution": false,
     "task": false
    }
   },
   "outputs": [
    {
     "name": "stdout",
     "output_type": "stream",
     "text": [
      "ok\n"
     ]
    }
   ],
   "source": [
    "'''ตรวจสอบการแสดงผลลัพธ์อย่างง่าย'''\n",
    "test_easy_print(inputs=['2'],expected_output='2')\n",
    "print('ok')"
   ]
  },
  {
   "cell_type": "code",
   "execution_count": 100,
   "metadata": {
    "deletable": false,
    "editable": false,
    "id": "9Y_QZWiP_M_V",
    "nbgrader": {
     "cell_type": "code",
     "checksum": "1330f3e743a5928af770f576ee78c293",
     "grade": true,
     "grade_id": "cell-0c38a636281d4f0d",
     "locked": true,
     "points": 1,
     "schema_version": 3,
     "solution": false,
     "task": false
    }
   },
   "outputs": [
    {
     "name": "stdout",
     "output_type": "stream",
     "text": [
      "ok\n"
     ]
    }
   ],
   "source": [
    "'''ตรวจสอบผลการคำนวณและการแสดงผลลัพธ์ให้เหมือนกับโจทย์ที่กำหนดให้'''\n",
    "test(['0'],\"[10, 20, 30, 40, 50, 60, 70, 80, 90, 100]\\n\")\n",
    "test(['4'],\"[4, 14, 24, 34, 40, 41, 42, 43, 44, 45, 46, 47, 48, 49, 54, 64, 74, 84, 94]\\n\")\n",
    "test(['8'],\"[8, 18, 28, 38, 48, 58, 68, 78, 80, 81, 82, 83, 84, 85, 86, 87, 88, 89, 98]\\n\")\n",
    "test(['1'],\"[1, 10, 11, 12, 13, 14, 15, 16, 17, 18, 19, 21, 31, 41, 51, 61, 71, 81, 91, 100]\\n\")\n",
    "test(['3'],\"[3, 13, 23, 30, 31, 32, 33, 34, 35, 36, 37, 38, 39, 43, 53, 63, 73, 83, 93]\\n\")\n",
    "test(['9'],\"[9, 19, 29, 39, 49, 59, 69, 79, 89, 90, 91, 92, 93, 94, 95, 96, 97, 98, 99]\\n\")\n",
    "print('ok')"
   ]
  },
  {
   "cell_type": "code",
   "execution_count": 102,
   "metadata": {
    "deletable": false,
    "editable": false,
    "id": "0JyQZDOB_M_V",
    "nbgrader": {
     "cell_type": "code",
     "checksum": "1682e7f937e83ab944ee82f9c4b7ba20",
     "grade": true,
     "grade_id": "exact",
     "locked": false,
     "points": 1,
     "schema_version": 3,
     "solution": false
    }
   },
   "outputs": [
    {
     "name": "stdout",
     "output_type": "stream",
     "text": [
      "ok\n"
     ]
    }
   ],
   "source": [
    "'''ตรวจสอบฟังก์ชัน create_list'''\n",
    "assert create_list(5) == [5, 15, 25, 35, 45, 50, 51, 52, 53, 54, 55, 56, 57, 58, 59, 65, 75, 85, 95]\n",
    "assert create_list(6) == [6, 16, 26, 36, 46, 56, 60, 61, 62, 63, 64, 65, 66, 67, 68, 69, 76, 86, 96]\n",
    "print('ok')"
   ]
  },
  {
   "cell_type": "code",
   "execution_count": 104,
   "metadata": {
    "deletable": false,
    "editable": false,
    "id": "MDyWYks5_M_V",
    "nbgrader": {
     "cell_type": "code",
     "checksum": "970da3db8bf2711bce2b7abc4a38792a",
     "grade": true,
     "grade_id": "cell-59f35ec9e84d2ff2",
     "locked": true,
     "points": 1,
     "schema_version": 3,
     "solution": false,
     "task": false
    }
   },
   "outputs": [
    {
     "data": {
      "text/plain": [
       "'เทสลับ1'"
      ]
     },
     "execution_count": 104,
     "metadata": {},
     "output_type": "execute_result"
    }
   ],
   "source": [
    "'''เทสลับ1'''"
   ]
  },
  {
   "cell_type": "code",
   "execution_count": 106,
   "metadata": {
    "deletable": false,
    "editable": false,
    "id": "b1DLTu9a_M_V",
    "nbgrader": {
     "cell_type": "code",
     "checksum": "3820f50b1485b9e1edac142ecfdded67",
     "grade": true,
     "grade_id": "cell-183d686f87a66cee",
     "locked": true,
     "points": 1,
     "schema_version": 3,
     "solution": false,
     "task": false
    }
   },
   "outputs": [
    {
     "data": {
      "text/plain": [
       "'เทสลับ2'"
      ]
     },
     "execution_count": 106,
     "metadata": {},
     "output_type": "execute_result"
    }
   ],
   "source": [
    "'''เทสลับ2'''"
   ]
  },
  {
   "cell_type": "code",
   "execution_count": null,
   "metadata": {},
   "outputs": [],
   "source": []
  }
 ],
 "metadata": {
  "BondSan": "49ce65e57a3f72e3c221aa23a225f73aeea8a73103f033e49c2bf1afbe8881e28b4c7ced9a5c898f3863572bfd0c922abeb41c4b1fa84ec92363c922f7dd523cee579a41f12158a6e95f723d6f0455da655b21a88f670d2d2f027ec3a249ef96e6c04c231e17572c3efee133cbffe2933b6fc32cba59f52b49fad98d78dc49a75a35b8001e4b02db2b0511552bd67b1eef6744b8367eb16af200ec15c9043310a0567bdb70a3500975253d50410733f7cd3827a086c26d1dc5d044b71a9ec59d1061ce76d97e7cee94288e37aafeccd2c74da05bc5f8bfc58690f63d861a0f53f939043612ba299431b74921dbfc16ab62d82a1a1f47b33af03ddd5d745359d1",
  "colab": {
   "provenance": []
  },
  "kernelspec": {
   "display_name": "Python 3 (ipykernel)",
   "language": "python",
   "name": "python3"
  },
  "language_info": {
   "codemirror_mode": {
    "name": "ipython",
    "version": 3
   },
   "file_extension": ".py",
   "mimetype": "text/x-python",
   "name": "python",
   "nbconvert_exporter": "python",
   "pygments_lexer": "ipython3",
   "version": "3.12.4"
  },
  "vscode": {
   "interpreter": {
    "hash": "318f2c383d48220c821fefd227250c35bb828f95042f5889a5ad1704b1baf79c"
   }
  }
 },
 "nbformat": 4,
 "nbformat_minor": 4
}
