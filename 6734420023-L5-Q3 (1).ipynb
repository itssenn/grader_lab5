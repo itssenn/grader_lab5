{
 "cells": [
  {
   "cell_type": "markdown",
   "metadata": {
    "deletable": false,
    "editable": false,
    "id": "_FqQZ4hu4jCC",
    "nbgrader": {
     "cell_type": "markdown",
     "checksum": "2937f0469f2731dd20eeac6fc79d07f0",
     "grade": false,
     "grade_id": "cell-dbf37dcea5d7dc5c",
     "locked": true,
     "schema_version": 3,
     "solution": false,
     "task": false
    }
   },
   "source": [
    "## Q3\n",
    "จงเขียนโปรแกรมที่แสดงตัวเลือกให้ผู้ใช้ 6 ตัวเลือกได้แก่ <br>\n",
    "1 เพิ่มสินค้าไว้ลำดับท้ายสุดในลิสต์, <br>\n",
    "2 เปลี่ยนสินค้าในลิสต์, <br>\n",
    "3 เพิ่มสินค้าตามตำแหน่งที่ระบุในลิสต์, <br>\n",
    "4 ลบสินค้าในลิสต์, <br>\n",
    "5 แสดงสินค้าในลิสต์, <br>\n",
    "6 ออกจากโปรแกรม <br>\n",
    "\n",
    "จากนั้นวนรับตัวเลือกจากผู้ใช้และทำงานตามตัวเลือก โดยให้สร้างเป็นฟังก์ชันสำหรับแต่ละตัวเลือกและรายละเอียดสำหรับแต่ละตัวเลือกมีดังนี้<br>\n",
    "\n",
    "**การเพิ่มสินค้าไว้ลำดับท้ายสุดในลิสต์** <br>\n",
    "def add_item(item_list): <br>\n",
    "โดย item_list คือลิสต์ที่จะเพิ่มสินค้าลงไป <br>\n",
    "การทำงาน <br>\n",
    "- รับข้อมูลชื่อสินค้าที่จะเพิ่มจากผู้ใช้ <br>\n",
    "- หากสินค้านั้นยังไม่ปรากฏในลิสต์ จะเพิ่มสินค้าลงในลิสต์ แล้วแสดงข้อความว่า Item has been added <br>\n",
    "- หากสินค้านั้นปรากฏในลิสต์อยู่แล้ว จะไม่เพิ่มสินค้าซ้ำลงไป แต่จะแสดงข้อความว่า Item is already in the list  <br>\n",
    "\n",
    "**การเปลี่ยนสินค้าในลิสต์**  <br>\n",
    "def change_item(item_list):\n",
    "การทำงาน\n",
    "- รับข้อมูลชื่อสินค้าที่จะเปลี่ยนชื่อจากผู้ใช้ <br>\n",
    "- หากชื่อสินค้านั้นมีในลิสต์ ให้รับชื่อสินค้าใหม่ แล้วเปลี่ยนชื่อสินค้า จากนั้นแสดงข้อความว่า Item has been changed <br>\n",
    "- หากชื่อสินค้านั้นไม่มีในลิสต์ ให้แสดงข้อความว่า Item is not in the list <br>\n",
    "\n",
    "**เพิ่มสินค้าตามตำแหน่งที่ระบุในลิสต์**  <br>\n",
    "def insert_item(item_list):\n",
    "การทำงาน\n",
    "- รับข้อมูลชื่อสินค้าที่จะเพิ่มจากผู้ใช้<br>\n",
    "- รับตำแหน่งที่ต้องการจะเพิ่ม <br>\n",
    "- เพิ่มชื่อสินค้าตามตำแหน่งที่ระบุ <br>\n",
    "- แสดงข้อความว่า Item has been inserted<br>\n",
    "\n",
    "**ลบสินค้าในลิสต์** <br>\n",
    "def remove_item(item_list): <br>\n",
    "การทำงาน <br>\n",
    "- รับข้อมูลชื่อสินค้าที่จะลบจากผู้ใช้ <br>\n",
    "- หากชื่อสินค้านั้นมีในลิสต์ ให้ลบชื่อสินค้าออกจากลิสต์ จากนั้นแสดงข้อความว่า Item has been removed <br>\n",
    "- หากชื่อสินค้านั้นไม่มีในลิสต์ ให้แสดงข้อความว่า This item is not in the list <br>\n",
    "\n",
    "**แสดงสินค้าในลิสต์** <br>\n",
    "def show_items(item_list): <br>\n",
    "การทำงาน <br>\n",
    "- แสดงสินค้าในลิสต์ แต่หากเริ่มแรกสุดยังไม่มีสินค้าให้แสดงข้อความว่า The list is currently empty <br>\n"
   ]
  },
  {
   "cell_type": "markdown",
   "metadata": {
    "deletable": false,
    "editable": false,
    "id": "5bV1ofdA4jCE",
    "nbgrader": {
     "cell_type": "markdown",
     "checksum": "ffa87f20ac98056be90b2d9a9d205142",
     "grade": false,
     "grade_id": "cell-e91b292e332e6674",
     "locked": true,
     "schema_version": 3,
     "solution": false,
     "task": false
    }
   },
   "source": [
    "### ตัวอย่างการทำงาน def show items and exit:\n",
    "\n",
    "**What would you like to do?** <br>\n",
    "**1: add item** <br>\n",
    "**2: change item** <br>\n",
    "**3: insert item** <br>\n",
    "**4: remove item** <br>\n",
    "**5: show items** <br>\n",
    "**6: exit** <br>\n",
    "Enter a number: **5** <br>\n",
    "The list is currently empty <br>\n",
    "Enter a number: **6** <br>"
   ]
  },
  {
   "cell_type": "markdown",
   "metadata": {
    "deletable": false,
    "editable": false,
    "id": "-STs9ai-4jCE",
    "nbgrader": {
     "cell_type": "markdown",
     "checksum": "26d1c954f949b609e29a4455dda99d0e",
     "grade": false,
     "grade_id": "cell-499ab6a0d9ea06fe",
     "locked": true,
     "schema_version": 3,
     "solution": false,
     "task": false
    }
   },
   "source": [
    "### ตัวอย่างการทำงาน def add item and exit:\n",
    "\n",
    "**What would you like to do?** <br>\n",
    "**1: add item** <br>\n",
    "**2: change item** <br>\n",
    "**3: insert item** <br>\n",
    "**4: remove item** <br>\n",
    "**5: show items** <br>\n",
    "**6: exit** <br>\n",
    "Enter a number: **1** <br>\n",
    "Enter item: **Pen** <br>\n",
    "Item has been added <br>\n",
    "Enter a number: **1** <br>\n",
    "Enter item: **Eraser** <br>\n",
    "Item has been added <br>\n",
    "Enter a number: **1** <br>\n",
    "Enter item: **Pen** <br>\n",
    "Item is already in the list <br>\n",
    "Enter a number: **5** <br>\n",
    "['Pen', 'Eraser'] <br>\n",
    "Enter a number: **6** <br>"
   ]
  },
  {
   "cell_type": "markdown",
   "metadata": {
    "deletable": false,
    "editable": false,
    "id": "398FYyEs4jCF",
    "nbgrader": {
     "cell_type": "markdown",
     "checksum": "eb6da9375d8be1d7a54036462ff6972e",
     "grade": false,
     "grade_id": "cell-215eb9258ba379ac",
     "locked": true,
     "schema_version": 3,
     "solution": false,
     "task": false
    }
   },
   "source": [
    "### ตัวอย่างการทำงาน def change item and exit:\n",
    "\n",
    "**What would you like to do?** <br>\n",
    "**1: add item** <br>\n",
    "**2: change item** <br>\n",
    "**3: insert item** <br>\n",
    "**4: remove item** <br>\n",
    "**5: show items** <br>\n",
    "**6: exit** <br>\n",
    "Enter a number: **1** <br>\n",
    "Enter item: **Pen** <br>\n",
    "Item has been added <br>\n",
    "Enter a number: **1** <br>\n",
    "Enter item: **Eraser** <br>\n",
    "Item has been added <br>\n",
    "Enter a number: **2** <br>\n",
    "Enter item you want to change: **Rubber** <br>\n",
    "Item is not in the list <br>\n",
    "Enter a number: **2** <br>\n",
    "Enter item you want to change: **Eraser** <br>\n",
    "Enter new item: **Ruler** <br>\n",
    "Item has been changed <br>\n",
    "Enter a number: **5** <br>\n",
    "['Pen', 'Ruler'] <br>\n",
    "Enter a number: **6** <br>"
   ]
  },
  {
   "cell_type": "markdown",
   "metadata": {
    "deletable": false,
    "editable": false,
    "id": "tulFfdK34jCF",
    "nbgrader": {
     "cell_type": "markdown",
     "checksum": "4cd657bc066d11e05ded16ded494e697",
     "grade": false,
     "grade_id": "cell-39d603e94a813ebd",
     "locked": true,
     "schema_version": 3,
     "solution": false,
     "task": false
    }
   },
   "source": [
    "### ตัวอย่างการทำงาน def insert item  and exit:\n",
    "\n",
    "**What would you like to do?** <br>\n",
    "**1: add item** <br>\n",
    "**2: change item** <br>\n",
    "**3: insert item** <br>\n",
    "**4: remove item** <br>\n",
    "**5: show items** <br>\n",
    "**6: exit** <br>\n",
    "Enter a number: **1** <br>\n",
    "Enter item: **Pen** <br>\n",
    "Item has been added <br>\n",
    "Enter a number: **1** <br>\n",
    "Enter item: **Eraser** <br>\n",
    "Item has been added <br>\n",
    "Enter a number: **3** <br>\n",
    "Enter item: **Pencil** <br>\n",
    "Enter location that you want to insert: **0** <br>\n",
    "Item has been inserted <br>\n",
    "Enter a number: **5** <br>\n",
    "['Pencil', 'Pen', 'Eraser'] <br>\n",
    "Enter a number: **6** <br>"
   ]
  },
  {
   "cell_type": "markdown",
   "metadata": {
    "deletable": false,
    "editable": false,
    "id": "JMVqWPnu4jCG",
    "nbgrader": {
     "cell_type": "markdown",
     "checksum": "f5efe6371e9e36573674e374c0193f50",
     "grade": false,
     "grade_id": "cell-3542b8b29a515630",
     "locked": true,
     "schema_version": 3,
     "solution": false,
     "task": false
    }
   },
   "source": [
    "### ตัวอย่างการทำงาน def remove item  and exit:\n",
    "\n",
    "**What would you like to do?** <br>\n",
    "**1: add item** <br>\n",
    "**2: change item** <br>\n",
    "**3: insert item** <br>\n",
    "**4: remove item** <br>\n",
    "**5: show items** <br>\n",
    "**6: exit** <br>\n",
    "Enter a number: **1** <br>\n",
    "Enter item: **Pen** <br>\n",
    "Item has been added <br>\n",
    "Enter a number: **1** <br>\n",
    "Enter item: **Eraser** <br>\n",
    "Item has been added <br>\n",
    "Enter a number: **1** <br>\n",
    "Enter item: **Pencil** <br>\n",
    "Item has been added <br>\n",
    "Enter a number: **4** <br>\n",
    "Enter item you want to remove: **Sharpener** <br>\n",
    "This item is not in the list <br>\n",
    "Enter a number: **4** <br>\n",
    "Enter item you want to remove: **Pen** <br>\n",
    "Item has been removed <br>\n",
    "Enter a number: **5** <br>\n",
    "['Eraser', 'Pencil'] <br>\n",
    "Enter a number: **6** <br>"
   ]
  },
  {
   "cell_type": "code",
   "execution_count": 140,
   "metadata": {
    "deletable": false,
    "id": "yonV-JOu4jCG",
    "nbgrader": {
     "cell_type": "code",
     "checksum": "e36571637794cfd0bcee143f71f8778e",
     "grade": false,
     "grade_id": "name",
     "locked": false,
     "schema_version": 3,
     "solution": true
    }
   },
   "outputs": [],
   "source": [
    "def add_item(lst) :\n",
    "    item = input('Enter item:')\n",
    "    if item not in lst:\n",
    "        lst.append(item)\n",
    "        print('Item has been added')\n",
    "    else :\n",
    "        print('Item is already in the list')\n",
    "\n",
    "    return lst\n",
    "\n",
    "def change_item(lst) :\n",
    "    check = input('Enter item you want to change:')\n",
    "    if check not in lst:\n",
    "        print('Item is not in the list')\n",
    "    else :\n",
    "        item = input('Enter new item:')\n",
    "        lst.insert(lst.index(check), item)\n",
    "        lst.remove(check)\n",
    "        print('Item has been changed')\n",
    "        \n",
    "    return lst      \n",
    "\n",
    "def insert_item(lst) :\n",
    "    item = input()\n",
    "    id = int(input())\n",
    "    lst.insert(id, item)\n",
    "    print('Item has been inserted')\n",
    "    \n",
    "    return lst\n",
    "\n",
    "def remove_item(lst) :\n",
    "    item = input('Enter item you want to remove:')\n",
    "    if item not in lst :\n",
    "        print('This item is not in the list')\n",
    "    else :\n",
    "        lst.remove(item)\n",
    "        print('Item has been removed')\n",
    "\n",
    "    return lst\n",
    "\n",
    "def show_item(lst) :\n",
    "    if len(lst) == 0 :\n",
    "        print('The list is currently empty')\n",
    "    else :\n",
    "        print(lst)\n",
    "\n",
    "    return lst\n",
    "\n",
    "def run():\n",
    "    print('What would you like to do?\\n1: add item\\n2: change item\\n3: insert item\\n4: remove item\\n5: show items\\n6: exit')\n",
    "    n = input('Enter a number:')\n",
    "    lst = list()\n",
    "    while n != 6 :\n",
    "        if n == '1' :\n",
    "            lst = add_item(lst)\n",
    "        elif n == '2' :\n",
    "            lst = change_item(lst)\n",
    "        elif n == '3' :\n",
    "            insert_item(lst)\n",
    "        elif n == '4' :\n",
    "            remove_item(lst)\n",
    "        elif n == '5' :\n",
    "            show_item(lst)\n",
    "        else :\n",
    "            lst = []\n",
    "            break\n",
    "        \n",
    "        n = input('Enter a number:')\n"
   ]
  },
  {
   "cell_type": "code",
   "execution_count": 108,
   "metadata": {
    "deletable": false,
    "editable": false,
    "id": "xOB9p-hO4jCH",
    "nbgrader": {
     "cell_type": "code",
     "checksum": "b7b03893ed0aaf1a2af60ae612b4be37",
     "grade": false,
     "grade_id": "cell-befa13e6c82bd29b",
     "locked": true,
     "schema_version": 3,
     "solution": false,
     "task": false
    }
   },
   "outputs": [
    {
     "name": "stdout",
     "output_type": "stream",
     "text": [
      "What would you like to do?\n",
      "1: add item\n",
      "2: change item\n",
      "3: insert item\n",
      "4: remove item\n",
      "5: show items\n",
      "6: exit\n"
     ]
    },
    {
     "name": "stdin",
     "output_type": "stream",
     "text": [
      "Enter a number: 6\n"
     ]
    }
   ],
   "source": [
    "'''ตรวจสอบผลลัพธ์ของโปรแกรมด้วยการรันที่ cell นี้'''\n",
    "run()"
   ]
  },
  {
   "cell_type": "code",
   "execution_count": 142,
   "metadata": {
    "deletable": false,
    "editable": false,
    "id": "uRvhynF84jCH",
    "nbgrader": {
     "cell_type": "code",
     "checksum": "51309daa496029406f58e0ffe1d6e21d",
     "grade": false,
     "grade_id": "partial",
     "locked": true,
     "schema_version": 3,
     "solution": false,
     "task": false
    }
   },
   "outputs": [],
   "source": [
    "'''ตรวจสอบผลการคำนวณ'''\n",
    "from unittest.mock import patch\n",
    "from io import StringIO\n",
    "\n",
    "def test(inputs,expected_output):\n",
    "    with patch('builtins.input', side_effect=inputs), patch('sys.stdout', new_callable=StringIO) as mock_stdout:\n",
    "        run()\n",
    "        assert mock_stdout.getvalue() == expected_output,mock_stdout.getvalue()\n",
    "def test_easy_print(inputs,expected_output):\n",
    "    with patch('builtins.input', side_effect=inputs), patch('sys.stdout', new_callable=StringIO) as mock_stdout:\n",
    "        run()\n",
    "        assert expected_output in mock_stdout.getvalue(), mock_stdout.getvalue()"
   ]
  },
  {
   "cell_type": "code",
   "execution_count": 144,
   "metadata": {
    "deletable": false,
    "editable": false,
    "id": "FtsGSlPK4jCI",
    "nbgrader": {
     "cell_type": "code",
     "checksum": "d94cfc2629cf8a20929e6563bc16a284",
     "grade": true,
     "grade_id": "easy_print",
     "locked": true,
     "points": 1,
     "schema_version": 3,
     "solution": false,
     "task": false
    }
   },
   "outputs": [
    {
     "name": "stdout",
     "output_type": "stream",
     "text": [
      "ok\n"
     ]
    }
   ],
   "source": [
    "'''ตรวจสอบการแสดงผลลัพธ์อย่างง่าย'''\n",
    "test_easy_print(inputs=['5','6'],expected_output='What')\n",
    "print('ok')"
   ]
  },
  {
   "cell_type": "code",
   "execution_count": 146,
   "metadata": {
    "deletable": false,
    "editable": false,
    "id": "9wtvPqG84jCI",
    "nbgrader": {
     "cell_type": "code",
     "checksum": "dd041b10b29af38b48b88048479ab216",
     "grade": true,
     "grade_id": "exact",
     "locked": false,
     "points": 1,
     "schema_version": 3,
     "solution": false
    }
   },
   "outputs": [
    {
     "name": "stdout",
     "output_type": "stream",
     "text": [
      "ok\n"
     ]
    }
   ],
   "source": [
    "'''ตรวจสอบผลการคำนวณและการแสดงผลลัพธ์ให้เหมือนกับโจทย์ที่กำหนดให้'''\n",
    "'''Test function show'''\n",
    "test(['5','6'],'What would you like to do?\\n1: add item\\n2: change item\\n3: insert item\\n\\\n",
    "4: remove item\\n5: show items\\n6: exit\\nThe list is currently empty\\n')\n",
    "print('ok')"
   ]
  },
  {
   "cell_type": "code",
   "execution_count": 148,
   "metadata": {
    "deletable": false,
    "editable": false,
    "id": "GuLecOMC4jCI",
    "nbgrader": {
     "cell_type": "code",
     "checksum": "cff5775d578a5836004429f731169769",
     "grade": true,
     "grade_id": "cell-c73870cae5a59dfa",
     "locked": true,
     "points": 1,
     "schema_version": 3,
     "solution": false,
     "task": false
    }
   },
   "outputs": [
    {
     "name": "stdout",
     "output_type": "stream",
     "text": [
      "ok\n"
     ]
    }
   ],
   "source": [
    "'''ตรวจสอบผลการคำนวณและการแสดงผลลัพธ์ให้เหมือนกับโจทย์ที่กำหนดให้'''\n",
    "'''Test function add'''\n",
    "test(['1','Pen','1','Eraser','1','Pen','5','6'],'What would you like to do?\\n1: add item\\n2: change item\\n3: insert item\\n\\\n",
    "4: remove item\\n5: show items\\n6: exit\\nItem has been added\\nItem has been added\\nItem is already in the list\\n[\\'Pen\\', \\'Eraser\\']\\n')\n",
    "print('ok')"
   ]
  },
  {
   "cell_type": "code",
   "execution_count": 150,
   "metadata": {
    "deletable": false,
    "editable": false,
    "id": "Vo-NxfBD4jCJ",
    "nbgrader": {
     "cell_type": "code",
     "checksum": "cbc8be260ba49252deff8c5ecea4f9cd",
     "grade": true,
     "grade_id": "cell-cbc47179f27fefee",
     "locked": true,
     "points": 1,
     "schema_version": 3,
     "solution": false,
     "task": false
    }
   },
   "outputs": [
    {
     "name": "stdout",
     "output_type": "stream",
     "text": [
      "ok\n"
     ]
    }
   ],
   "source": [
    "'''ตรวจสอบผลการคำนวณและการแสดงผลลัพธ์ให้เหมือนกับโจทย์ที่กำหนดให้'''\n",
    "'''Test function change'''\n",
    "test(['1','Pen','1','Eraser','2','Rubber','2','Eraser','Ruler','5','6'],'What would you like to do?\\n1: add item\\n2: change item\\n3: insert item\\n\\\n",
    "4: remove item\\n5: show items\\n6: exit\\nItem has been added\\nItem has been added\\nItem is not in the list\\n\\\n",
    "Item has been changed\\n[\\'Pen\\', \\'Ruler\\']\\n')\n",
    "print('ok')"
   ]
  },
  {
   "cell_type": "code",
   "execution_count": 152,
   "metadata": {
    "deletable": false,
    "editable": false,
    "id": "4pn42PzE4jCJ",
    "nbgrader": {
     "cell_type": "code",
     "checksum": "85df765dcd3bcb523745b36f90e52ffd",
     "grade": true,
     "grade_id": "cell-0ec36ba71a93f61f",
     "locked": true,
     "points": 1,
     "schema_version": 3,
     "solution": false,
     "task": false
    }
   },
   "outputs": [
    {
     "name": "stdout",
     "output_type": "stream",
     "text": [
      "ok\n"
     ]
    }
   ],
   "source": [
    "'''ตรวจสอบผลการคำนวณและการแสดงผลลัพธ์ให้เหมือนกับโจทย์ที่กำหนดให้'''\n",
    "'''Test function insert'''\n",
    "test(['1','Pen','1','Eraser','3','Pencil','0','5','6'],'What would you like to do?\\n1: add item\\n2: change item\\n3: insert item\\n\\\n",
    "4: remove item\\n5: show items\\n6: exit\\nItem has been added\\nItem has been added\\nItem has been inserted\\n[\\'Pencil\\', \\'Pen\\', \\'Eraser\\']\\n')\n",
    "print('ok')"
   ]
  },
  {
   "cell_type": "code",
   "execution_count": 154,
   "metadata": {
    "deletable": false,
    "editable": false,
    "id": "2Gi06MEV4jCJ",
    "nbgrader": {
     "cell_type": "code",
     "checksum": "942ece3531793aabfee506c0ae240880",
     "grade": true,
     "grade_id": "cell-f59ccd5b163fae70",
     "locked": true,
     "points": 1,
     "schema_version": 3,
     "solution": false,
     "task": false
    }
   },
   "outputs": [
    {
     "name": "stdout",
     "output_type": "stream",
     "text": [
      "ok\n"
     ]
    }
   ],
   "source": [
    "'''ตรวจสอบผลการคำนวณและการแสดงผลลัพธ์ให้เหมือนกับโจทย์ที่กำหนดให้'''\n",
    "'''Test function remove'''\n",
    "test(['1','Pen','1','Eraser','1','Pencil','4','Sharpener','4','Pen','5','6'],'What would you like to do?\\n1: add item\\n2: change item\\n3: insert item\\n\\\n",
    "4: remove item\\n5: show items\\n6: exit\\nItem has been added\\nItem has been added\\nItem has been added\\nThis item is not in the list\\nItem has been removed\\n\\\n",
    "[\\'Eraser\\', \\'Pencil\\']\\n')\n",
    "print('ok')"
   ]
  },
  {
   "cell_type": "code",
   "execution_count": 156,
   "metadata": {
    "deletable": false,
    "editable": false,
    "id": "efgcNY7X4jCJ",
    "nbgrader": {
     "cell_type": "code",
     "checksum": "9f0d63ca62a9c420c52883f305685256",
     "grade": true,
     "grade_id": "cell-f3ee952f2dbff837",
     "locked": true,
     "points": 1,
     "schema_version": 3,
     "solution": false,
     "task": false
    }
   },
   "outputs": [
    {
     "data": {
      "text/plain": [
       "'เทสลับ1'"
      ]
     },
     "execution_count": 156,
     "metadata": {},
     "output_type": "execute_result"
    }
   ],
   "source": [
    "'''เทสลับ1'''"
   ]
  },
  {
   "cell_type": "code",
   "execution_count": 158,
   "metadata": {
    "deletable": false,
    "editable": false,
    "id": "o2mGd-MC4jCK",
    "nbgrader": {
     "cell_type": "code",
     "checksum": "30e10292795a72b302426e58bd5d26a0",
     "grade": true,
     "grade_id": "cell-2b9456ba0c0822b0",
     "locked": true,
     "points": 1,
     "schema_version": 3,
     "solution": false,
     "task": false
    }
   },
   "outputs": [
    {
     "data": {
      "text/plain": [
       "'เทสลับ2'"
      ]
     },
     "execution_count": 158,
     "metadata": {},
     "output_type": "execute_result"
    }
   ],
   "source": [
    "'''เทสลับ2'''"
   ]
  },
  {
   "cell_type": "code",
   "execution_count": null,
   "metadata": {},
   "outputs": [],
   "source": []
  }
 ],
 "metadata": {
  "BondSan": "26421aeb3688c8f3006bd45ab8aec433dc84721cc0fb648555ea866e0c4d480169b5851fe9e8515bce569a61ee915af19f2ebea2fdd0d45b14461e2afcc309d3a090b8da1e8d33d1337963403b70e812cfc1348189e3a6d20419b15c6585ebd8c7486f256671bc249d2bf65ecd515b970e452a512eff3ae58212b1ae696d95183296f6437d6afd2a3ca8fced6fd83d66e8d81663bc025b8a9a635a02e395180c3bfb7d36e2ded63b4246d79d61b95cb5fea88c7ebe807b3ec4cd2aaef093ed596b5190effb89fa87e95bf8c33ae18621a7662e22d79ea9c2e1469146800f034fc2d7ee61c83758d37d454f47965a5aab8ea76cf19280242852a27f5a651cffc2",
  "colab": {
   "provenance": []
  },
  "kernelspec": {
   "display_name": "Python 3 (ipykernel)",
   "language": "python",
   "name": "python3"
  },
  "language_info": {
   "codemirror_mode": {
    "name": "ipython",
    "version": 3
   },
   "file_extension": ".py",
   "mimetype": "text/x-python",
   "name": "python",
   "nbconvert_exporter": "python",
   "pygments_lexer": "ipython3",
   "version": "3.12.4"
  },
  "vscode": {
   "interpreter": {
    "hash": "318f2c383d48220c821fefd227250c35bb828f95042f5889a5ad1704b1baf79c"
   }
  }
 },
 "nbformat": 4,
 "nbformat_minor": 4
}
